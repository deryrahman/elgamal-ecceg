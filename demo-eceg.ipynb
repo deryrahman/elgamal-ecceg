{
 "cells": [
  {
   "cell_type": "markdown",
   "metadata": {},
   "source": [
    "# Elliptic-Curve ElGammal\n",
    "\n",
    "## Parameters"
   ]
  },
  {
   "cell_type": "code",
   "execution_count": 1,
   "metadata": {},
   "outputs": [],
   "source": [
    "from ecc import curve, koblitz\n",
    "\n",
    "# a=asal, b=asal, p=fix harus prima besar\n",
    "c = curve.EllipticCurve(1, 6, 16381)\n",
    "# koblitz's k=asal, range 1-20 lah ya\n",
    "k = 10\n",
    "# base shared, dimintanya titik, cuma susah tentuin titik dlm EC, hmm, dibantu koblitz aja ya\n",
    "# 0-255 --> koblitz --> suatu titik dlm EC\n",
    "b_char = ord('d')\n",
    "b = koblitz.encode1(c, k, b_char)\n",
    "# private key=asal\n",
    "pri = 12\n",
    "# message\n",
    "msg = b'DeryRahmanAhaddienata'"
   ]
  },
  {
   "cell_type": "markdown",
   "metadata": {},
   "source": [
    "## Generate Pub. Key"
   ]
  },
  {
   "cell_type": "code",
   "execution_count": 2,
   "metadata": {},
   "outputs": [
    {
     "data": {
      "text/plain": [
       "(6624, 140)"
      ]
     },
     "execution_count": 2,
     "metadata": {},
     "output_type": "execute_result"
    }
   ],
   "source": [
    "from ecc.eceg import gen_pub\n",
    "\n",
    "pub = gen_pub(c, b, pri)\n",
    "pub"
   ]
  },
  {
   "cell_type": "markdown",
   "metadata": {},
   "source": [
    "## Encrypt"
   ]
  },
  {
   "cell_type": "code",
   "execution_count": 3,
   "metadata": {},
   "outputs": [
    {
     "data": {
      "text/plain": [
       "array([10750,  1508, 11691,   729,  6146,  3667,  6085,  4646,  9168,\n",
       "         152,  5309, 14202,  5709,  6952, 16196,  8285,  4242,  7652,\n",
       "        4870,  3453, 14642, 15177, 14955, 12555,  7549,   397,  2836,\n",
       "        3729,   261,   592, 12426, 13366,  2627,  6442,  2542,  1168,\n",
       "        2342, 11371,  5237, 11148, 12627, 11979,  5449,  9205,   256,\n",
       "       12829,  1183,  2016,  6374,  2315,  6844, 10989, 13690, 15927,\n",
       "        9041, 11959, 11514,  5081,  1624, 15218,  1591,  8423,  6352,\n",
       "       15309,  4204, 14918, 15417, 13355, 10303, 12424,  1788,   552,\n",
       "       14535,  7462, 15953,  8926,  4619,    12, 12926,  7264,  3101,\n",
       "       11708, 16122, 14430])"
      ]
     },
     "execution_count": 3,
     "metadata": {},
     "output_type": "execute_result"
    }
   ],
   "source": [
    "from ecc.eceg import encrypt\n",
    "from ecc.eceg_np import to_np\n",
    "\n",
    "msg_cipher = None\n",
    "for i in range(100):\n",
    "    try:\n",
    "        msg_cipher = to_np(encrypt(c, b, pub, k, msg))\n",
    "        break\n",
    "    except:\n",
    "        pass\n",
    "if msg_cipher is None:\n",
    "    print(\"I've tried 100 times to encrypt but encrypt() didn't get good random number\")\n",
    "msg_cipher"
   ]
  },
  {
   "cell_type": "markdown",
   "metadata": {},
   "source": [
    "## Decrypt"
   ]
  },
  {
   "cell_type": "code",
   "execution_count": 4,
   "metadata": {},
   "outputs": [
    {
     "data": {
      "text/plain": [
       "b'DeryRahmanAhaddienata'"
      ]
     },
     "execution_count": 4,
     "metadata": {},
     "output_type": "execute_result"
    }
   ],
   "source": [
    "from ecc.eceg import decrypt\n",
    "from ecc.eceg_np import from_np\n",
    "\n",
    "msg_plain = decrypt(c, b, pri, k, from_np(msg_cipher))\n",
    "msg_plain"
   ]
  },
  {
   "cell_type": "code",
   "execution_count": null,
   "metadata": {},
   "outputs": [],
   "source": []
  }
 ],
 "metadata": {
  "kernelspec": {
   "display_name": "Python 3",
   "language": "python",
   "name": "python3"
  },
  "language_info": {
   "codemirror_mode": {
    "name": "ipython",
    "version": 3
   },
   "file_extension": ".py",
   "mimetype": "text/x-python",
   "name": "python",
   "nbconvert_exporter": "python",
   "pygments_lexer": "ipython3",
   "version": "3.7.2"
  }
 },
 "nbformat": 4,
 "nbformat_minor": 2
}
