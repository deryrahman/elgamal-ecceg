{
 "cells": [
  {
   "cell_type": "markdown",
   "metadata": {},
   "source": [
    "# Elliptic-Curve ElGammal\n",
    "\n",
    "## Parameters"
   ]
  },
  {
   "cell_type": "code",
   "execution_count": 1,
   "metadata": {},
   "outputs": [],
   "source": [
    "from ecc import curve, koblitz\n",
    "\n",
    "# a=asal, b=asal, p=fix harus prima besar\n",
    "c = curve.EllipticCurve(1, 6, 16381)\n",
    "# koblitz's k=asal, range 1-20 lah ya\n",
    "k = 10\n",
    "# base shared, dimintanya titik, cuma susah tentuin titik dlm EC, hmm, dibantu koblitz aja ya\n",
    "# 0-255 --> koblitz --> suatu titik dlm EC\n",
    "b_char = ord('d')\n",
    "b = koblitz.encode1(c, k, b_char)\n",
    "# private key=asal\n",
    "pri = 12\n",
    "# message\n",
    "msg = b'DeryRahmanAhaddienata'"
   ]
  },
  {
   "cell_type": "markdown",
   "metadata": {},
   "source": [
    "## Generate Pub. Key"
   ]
  },
  {
   "cell_type": "code",
   "execution_count": 2,
   "metadata": {},
   "outputs": [
    {
     "data": {
      "text/plain": [
       "(6624, 140)"
      ]
     },
     "execution_count": 2,
     "metadata": {},
     "output_type": "execute_result"
    }
   ],
   "source": [
    "from ecc.eceg import gen_pub\n",
    "\n",
    "pub = gen_pub(c, b, pri)\n",
    "pub"
   ]
  },
  {
   "cell_type": "markdown",
   "metadata": {},
   "source": [
    "## Encrypt"
   ]
  },
  {
   "cell_type": "code",
   "execution_count": 3,
   "metadata": {},
   "outputs": [
    {
     "data": {
      "text/plain": [
       "[((2108, 16067), (16244, 6598)),\n",
       " ((7494, 754), (12005, 5909)),\n",
       " ((2224, 13841), (9499, 5702)),\n",
       " ((8114, 894), (8025, 1207)),\n",
       " ((11617, 931), (8856, 13314)),\n",
       " ((12642, 1800), (3228, 7134)),\n",
       " ((5757, 13503), (9990, 14139)),\n",
       " ((1992, 11061), (1706, 9803)),\n",
       " ((443, 6797), (7105, 1446)),\n",
       " ((9203, 15013), (11714, 13938)),\n",
       " ((10652, 3812), (10717, 6088)),\n",
       " ((7602, 4960), (1406, 12612)),\n",
       " ((2499, 13233), (13862, 3000)),\n",
       " ((12725, 8009), (5566, 15437)),\n",
       " ((2463, 5738), (591, 9995)),\n",
       " ((3469, 3953), (11145, 5699)),\n",
       " ((505, 8929), (14886, 9029)),\n",
       " ((13035, 2347), (14814, 15921)),\n",
       " ((13163, 11524), (9726, 1226)),\n",
       " ((10964, 10842), (10562, 5120)),\n",
       " ((225, 3289), (5932, 8338))]"
      ]
     },
     "execution_count": 3,
     "metadata": {},
     "output_type": "execute_result"
    }
   ],
   "source": [
    "from ecc.eceg import encrypt\n",
    "\n",
    "msg_cipher = None\n",
    "for i in range(100):\n",
    "    try:\n",
    "        msg_cipher = encrypt(c, b, pub, k, msg)\n",
    "        break\n",
    "    except e:\n",
    "        print(e)\n",
    "if msg_cipher is None:\n",
    "    print(\"I've tried 100 times to encrypt but encrypt() didn't get good random number\")\n",
    "msg_cipher"
   ]
  },
  {
   "cell_type": "markdown",
   "metadata": {},
   "source": [
    "## Decrypt"
   ]
  },
  {
   "cell_type": "code",
   "execution_count": 4,
   "metadata": {},
   "outputs": [
    {
     "data": {
      "text/plain": [
       "b'DeryRahmanAhaddienata'"
      ]
     },
     "execution_count": 4,
     "metadata": {},
     "output_type": "execute_result"
    }
   ],
   "source": [
    "from ecc.eceg import decrypt\n",
    "\n",
    "msg_plain = decrypt(c, b, pri, k, msg_cipher)\n",
    "msg_plain"
   ]
  }
 ],
 "metadata": {
  "kernelspec": {
   "display_name": "Python 3",
   "language": "python",
   "name": "python3"
  },
  "language_info": {
   "codemirror_mode": {
    "name": "ipython",
    "version": 3
   },
   "file_extension": ".py",
   "mimetype": "text/x-python",
   "name": "python",
   "nbconvert_exporter": "python",
   "pygments_lexer": "ipython3",
   "version": "3.7.2"
  }
 },
 "nbformat": 4,
 "nbformat_minor": 2
}
